{
 "cells": [
  {
   "cell_type": "markdown",
   "metadata": {},
   "source": [
    "### Retrieval Augmented Generation using Knowledge Bases for Amazon Bedrock\n",
    "\n",
    "This Notebook provides an example of calling `retrieve` API for fetching the required context from Knowledge Bases for Amazon Bedrock. This notebook assumes you have already created the knowledge Base and hence, have knowledgebase ID information for leveraging in the code. "
   ]
  },
  {
   "cell_type": "code",
   "execution_count": null,
   "metadata": {},
   "outputs": [],
   "source": [
    "#Ensure you have the latest version of boto3 and botocore package \n",
    "!pip install boto3 botocore"
   ]
  },
  {
   "cell_type": "code",
   "execution_count": null,
   "metadata": {},
   "outputs": [],
   "source": [
    "#import the main packages and libraries\n",
    "import os\n",
    "import sys\n",
    "import boto3\n",
    "import json\n",
    "import botocore"
   ]
  },
  {
   "cell_type": "code",
   "execution_count": null,
   "metadata": {},
   "outputs": [],
   "source": [
    "# Create Bedrock Agent Runtime client\n",
    "bedrock_agent_rn = boto3.client(service_name='bedrock-agent-runtime')"
   ]
  },
  {
   "cell_type": "code",
   "execution_count": null,
   "metadata": {},
   "outputs": [],
   "source": [
    "#Defining the method to invoke the RetrieveAndGenerate API\n",
    "def retrieve(query, kb_Id, number_Of_Results=3):\n",
    "    return bedrock_agent_rn.retrieve(\n",
    "        retrievalQuery= {\n",
    "            'text': query\n",
    "        },\n",
    "        knowledgeBaseId=kb_Id,\n",
    "        retrievalConfiguration= {\n",
    "            'vectorSearchConfiguration': {\n",
    "                'numberOfResults': number_Of_Results\n",
    "            }\n",
    "        }\n",
    "    )"
   ]
  },
  {
   "cell_type": "code",
   "execution_count": null,
   "metadata": {},
   "outputs": [],
   "source": [
    "#Invoking the API.\n",
    "output_response = retrieve(\"What is Quantum Computing?\", \"PG0WBGY0DD\")[\"retrievalResults\"]\n",
    "\n",
    "print(output_response)\n"
   ]
  },
  {
   "cell_type": "markdown",
   "metadata": {},
   "source": [
    "Instead of a fluid natural language response that was fetched using , notice that the output shows the retrieved text chunks along with links to the original source documents that they were extracted from. Hence, this API shows a more granular view of showcasing information that was extracted from the contextual data provided to the Knowledge Base."
   ]
  },
  {
   "cell_type": "markdown",
   "metadata": {},
   "source": []
  }
 ],
 "metadata": {
  "language_info": {
   "name": "python"
  }
 },
 "nbformat": 4,
 "nbformat_minor": 2
}
