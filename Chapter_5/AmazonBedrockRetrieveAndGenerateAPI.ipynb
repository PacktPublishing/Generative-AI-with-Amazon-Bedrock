{
 "cells": [
  {
   "cell_type": "markdown",
   "metadata": {},
   "source": [
    "### Retrieval Augmented Generation using Knowledge Bases for Amazon Bedrock\n",
    "\n",
    "This Notebook provides an example of calling `retrieveAndGenerate` API for fetching the required context from Knowledge Bases for Amazon Bedrock"
   ]
  },
  {
   "cell_type": "markdown",
   "metadata": {},
   "source": [
    "In this notebook, we will walk through an example of invoking an already existing Knowledge Base as showcased in Chapter 5, in order to retrieve the required information from the stored location. "
   ]
  },
  {
   "cell_type": "code",
   "execution_count": null,
   "metadata": {},
   "outputs": [],
   "source": [
    "#Ensure you have the latest version of boto3 & botocore packages \n",
    "!pip install boto3 botocore"
   ]
  },
  {
   "cell_type": "code",
   "execution_count": null,
   "metadata": {},
   "outputs": [],
   "source": [
    "#import the main packages and libraries\n",
    "import os\n",
    "import boto3\n",
    "import json\n",
    "import botocore"
   ]
  },
  {
   "cell_type": "code",
   "execution_count": null,
   "metadata": {},
   "outputs": [],
   "source": [
    "# Define Bedrock Agent Runtime\n",
    "bedrock_agent_rn = boto3.client(service_name='bedrock-agent-runtime')"
   ]
  },
  {
   "cell_type": "code",
   "execution_count": null,
   "metadata": {},
   "outputs": [],
   "source": [
    "#Defining the method to invoke the RetrieveAndGenerate API. This assumes you have already created the knowledge base and have the knowledge base ID.\n",
    "def retrieveAndGenerate(input, kb_Id):\n",
    "    return bedrock_agent_rn.retrieve_and_generate(\n",
    "        input={\n",
    "            'text': input\n",
    "        },\n",
    "        retrieveAndGenerateConfiguration={\n",
    "            'type': 'KNOWLEDGE_BASE',\n",
    "            'knowledgeBaseConfiguration': {\n",
    "                'knowledgeBaseId': kb_Id,\n",
    "                'modelArn': 'arn:aws:bedrock:us-east-1::foundation-model/anthropic.claude-instant-v1'\n",
    "                }\n",
    "            }\n",
    "        )"
   ]
  },
  {
   "cell_type": "code",
   "execution_count": null,
   "metadata": {},
   "outputs": [],
   "source": [
    "#Invoking the API to generate the desired response\n",
    "response = retrieveAndGenerate(\"What is Quantum Computing?\", \"PG0WBGY0DD\")[\"output\"][\"text\"]\n",
    "print(response)"
   ]
  }
 ],
 "metadata": {
  "language_info": {
   "name": "python"
  }
 },
 "nbformat": 4,
 "nbformat_minor": 2
}
